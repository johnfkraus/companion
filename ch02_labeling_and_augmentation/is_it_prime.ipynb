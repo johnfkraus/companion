{
 "cells": [
  {
   "cell_type": "code",
   "execution_count": 14,
   "metadata": {},
   "outputs": [
    {
     "name": "stdout",
     "output_type": "stream",
     "text": [
      "    Number  ground_truth\n",
      "0        0             0\n",
      "1        1             0\n",
      "2        2             1\n",
      "3        3             1\n",
      "4        4             0\n",
      "..     ...           ...\n",
      "95      95             0\n",
      "96      96             0\n",
      "97      97             1\n",
      "98      98             0\n",
      "99      99             0\n",
      "\n",
      "[100 rows x 2 columns]\n"
     ]
    }
   ],
   "source": [
    "import re, sys\n",
    "import pandas as pd\n",
    "\n",
    "def is_prime(n):\n",
    "    # see http://www.noulakaz.net/weblog/2007/03/18/a-regular-expression-to-check-for-prime-numbers/\n",
    "    return re.match(r'^1?$|^(11+?)\\1+$', '1' * n) == None\n",
    "\n",
    "\n",
    "def is_prime_int(n):\n",
    "    # see http://www.noulakaz.net/weblog/2007/03/18/a-regular-expression-to-check-for-prime-numbers/\n",
    "    # print(n, re.match(r'^1?$|^(11+?)\\1+$', '1' * n) == None)\n",
    "    return 1 if re.match(r'^1?$|^(11+?)\\1+$', '1' * n) == None else 0\n",
    "\n",
    "\n",
    "def get_n_primes(n):\n",
    "\n",
    "    # N = int(sys.argv[1]) # number of primes wanted (from command-line)\n",
    "    N = n  # 200  # int(sys.argv[1]) # number of primes wanted (from command-line)\n",
    "    M = 100             # upper-bound of search space (we search 100 consecutive integers at a time)\n",
    "    l = list()           # result list\n",
    "\n",
    "    while len(l) < N:    \n",
    "        l += filter(is_prime, range(M - 100, M)) # append prime element of [M - 100, M] to l\n",
    "        # l += filter(isPrime, range(0, M)) # append prime element of [M - 100, M] to l\n",
    "        # if we haven't found N primes yet, we shift the search space up by 100;\n",
    "        # i.e., from 0 - 100 to 100 - 200\n",
    "        M += 100                                # increment upper-bound\n",
    "\n",
    "    return l[:N]  # only return the number of primes specified  # print(l)\n",
    "\n",
    "\n",
    "def get_primes_in_first_n_integers(top):\n",
    "    l = list()\n",
    "    for n in range(0, top):\n",
    "        if is_prime(n):\n",
    "            l += [n]\n",
    "    return l      \n",
    "\n",
    "\n",
    "# if __name__ = \"__main__\":\n",
    "def get_prime_to_integer_ratios():\n",
    "    for n in range(100, 1000, 50):\n",
    "    #n = 103\n",
    "        n_prime_list = get_n_primes(n)\n",
    "        npl_ratio = len(n_prime_list)/ n_prime_list[-1]\n",
    "        print(n_prime_list[-1], len(n_prime_list), npl_ratio)  #, n_prime_list)\n",
    "\n",
    "# prime_list_up_to_n = get_primes_in_first_n_integers(100)\n",
    "# print('len =', len(prime_list_up_to_n), prime_list_up_to_n)\n",
    "\n",
    "def make_prime_list():\n",
    "    outer_prime_list = list()\n",
    "    for n in range(0,100):\n",
    "        inner_list = None\n",
    "        is_prime = is_prime_int(n)\n",
    "        if is_prime:\n",
    "            inner_list = [n, 1]     \n",
    "            # inner_list = inner_list + [1]\n",
    "        else:\n",
    "            inner_list = [n, 0] \n",
    "            # inner_list = inner_list + [0]\n",
    "        outer_prime_list.append(inner_list)\n",
    "    return outer_prime_list\n",
    "\n",
    "\n",
    "def make_primes_df():\n",
    "    prime_list = make_prime_list()\n",
    "    df = pd.DataFrame(prime_list, columns =['Number', 'ground_truth'])     \n",
    "    return df\n",
    "\n",
    "\n",
    "print(make_primes_df())"
   ]
  }
 ],
 "metadata": {
  "kernelspec": {
   "display_name": "Python 3.10.4 64-bit ('prac-weak')",
   "language": "python",
   "name": "python3"
  },
  "language_info": {
   "codemirror_mode": {
    "name": "ipython",
    "version": 3
   },
   "file_extension": ".py",
   "mimetype": "text/x-python",
   "name": "python",
   "nbconvert_exporter": "python",
   "pygments_lexer": "ipython3",
   "version": "3.10.4"
  },
  "orig_nbformat": 4,
  "vscode": {
   "interpreter": {
    "hash": "3239d9b19dc71823afce0461a5421d11a9d24253957a55b30a6bf76803c2fa56"
   }
  }
 },
 "nbformat": 4,
 "nbformat_minor": 2
}
