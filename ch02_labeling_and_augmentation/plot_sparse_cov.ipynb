{
  "cells": [
    {
      "cell_type": "code",
      "execution_count": null,
      "metadata": {
        "collapsed": false
      },
      "outputs": [],
      "source": [
        "%matplotlib inline"
      ]
    },
    {
      "cell_type": "markdown",
      "metadata": {},
      "source": [
        "\n",
        "# Sparse inverse covariance estimation\n",
        "\n",
        "Source: https://scikit-learn.org/stable/auto_examples/covariance/plot_sparse_cov.html#sphx-glr-download-auto-examples-covariance-plot-sparse-cov-py\n",
        "\n",
        "Using the GraphicalLasso estimator to learn a covariance and sparse precision\n",
        "from a small number of samples.\n",
        "\n",
        "To estimate a probabilistic model (e.g. a Gaussian model), estimating the\n",
        "precision matrix, that is the inverse covariance matrix, is as important\n",
        "as estimating the covariance matrix. Indeed a Gaussian model is\n",
        "parametrized by the precision matrix.\n",
        "\n",
        "To be in favorable recovery conditions, we sample the data from a model\n",
        "with a sparse inverse covariance matrix. In addition, we ensure that the\n",
        "data is not too much correlated (limiting the largest coefficient of the\n",
        "precision matrix) and that there a no small coefficients in the\n",
        "precision matrix that cannot be recovered. In addition, with a small\n",
        "number of observations, it is easier to recover a correlation matrix\n",
        "rather than a covariance, thus we scale the time series.\n",
        "\n",
        "Here, the number of samples is slightly larger than the number of\n",
        "dimensions, thus the empirical covariance is still invertible. However,\n",
        "as the observations are strongly correlated, the empirical covariance\n",
        "matrix is ill-conditioned and as a result its inverse --the empirical\n",
        "precision matrix-- is very far from the ground truth.\n",
        "\n",
        "If we use l2 shrinkage, as with the Ledoit-Wolf estimator, as the number\n",
        "of samples is small, we need to shrink a lot. As a result, the\n",
        "Ledoit-Wolf precision is fairly close to the ground truth precision, that\n",
        "is not far from being diagonal, but the off-diagonal structure is lost.\n",
        "\n",
        "The l1-penalized estimator can recover part of this off-diagonal\n",
        "structure. It learns a sparse precision. It is not able to\n",
        "recover the exact sparsity pattern: it detects too many non-zero\n",
        "coefficients. However, the highest non-zero coefficients of the l1\n",
        "estimated correspond to the non-zero coefficients in the ground truth.\n",
        "Finally, the coefficients of the l1 precision estimate are biased toward\n",
        "zero: because of the penalty, they are all smaller than the corresponding\n",
        "ground truth value, as can be seen on the figure.\n",
        "\n",
        "Note that, the color range of the precision matrices is tweaked to\n",
        "improve readability of the figure. The full range of values of the\n",
        "empirical precision is not displayed.\n",
        "\n",
        "The alpha parameter of the GraphicalLasso setting the sparsity of the model is\n",
        "set by internal cross-validation in the GraphicalLassoCV. As can be\n",
        "seen on figure 2, the grid to compute the cross-validation score is\n",
        "iteratively refined in the neighborhood of the maximum.\n"
      ]
    },
    {
      "cell_type": "code",
      "execution_count": null,
      "metadata": {
        "collapsed": false
      },
      "outputs": [],
      "source": [
        "# author: Gael Varoquaux <gael.varoquaux@inria.fr>\n",
        "# License: BSD 3 clause\n",
        "# Copyright: INRIA"
      ]
    },
    {
      "cell_type": "markdown",
      "metadata": {},
      "source": [
        "## Generate the data\n",
        "\n"
      ]
    },
    {
      "cell_type": "code",
      "execution_count": null,
      "metadata": {
        "collapsed": false
      },
      "outputs": [],
      "source": [
        "import numpy as np\n",
        "from scipy import linalg\n",
        "from sklearn.datasets import make_sparse_spd_matrix\n",
        "\n",
        "n_samples = 60\n",
        "n_features = 20\n",
        "\n",
        "prng = np.random.RandomState(1)\n",
        "prec = make_sparse_spd_matrix(\n",
        "    n_features, alpha=0.98, smallest_coef=0.4, largest_coef=0.7, random_state=prng\n",
        ")\n",
        "cov = linalg.inv(prec)\n",
        "d = np.sqrt(np.diag(cov))\n",
        "cov /= d\n",
        "cov /= d[:, np.newaxis]\n",
        "prec *= d\n",
        "prec *= d[:, np.newaxis]\n",
        "X = prng.multivariate_normal(np.zeros(n_features), cov, size=n_samples)\n",
        "X -= X.mean(axis=0)\n",
        "X /= X.std(axis=0)"
      ]
    },
    {
      "cell_type": "markdown",
      "metadata": {},
      "source": [
        "## Estimate the covariance\n",
        "\n"
      ]
    },
    {
      "cell_type": "code",
      "execution_count": null,
      "metadata": {
        "collapsed": false
      },
      "outputs": [],
      "source": [
        "from sklearn.covariance import GraphicalLassoCV, ledoit_wolf\n",
        "\n",
        "emp_cov = np.dot(X.T, X) / n_samples\n",
        "\n",
        "model = GraphicalLassoCV()\n",
        "model.fit(X)\n",
        "cov_ = model.covariance_\n",
        "prec_ = model.precision_\n",
        "\n",
        "lw_cov_, _ = ledoit_wolf(X)\n",
        "lw_prec_ = linalg.inv(lw_cov_)"
      ]
    },
    {
      "cell_type": "markdown",
      "metadata": {},
      "source": [
        "## Plot the results\n",
        "\n"
      ]
    },
    {
      "cell_type": "code",
      "execution_count": null,
      "metadata": {
        "collapsed": false
      },
      "outputs": [],
      "source": [
        "import matplotlib.pyplot as plt\n",
        "\n",
        "plt.figure(figsize=(10, 6))\n",
        "plt.subplots_adjust(left=0.02, right=0.98)\n",
        "\n",
        "# plot the covariances\n",
        "covs = [\n",
        "    (\"Empirical\", emp_cov),\n",
        "    (\"Ledoit-Wolf\", lw_cov_),\n",
        "    (\"GraphicalLassoCV\", cov_),\n",
        "    (\"True\", cov),\n",
        "]\n",
        "vmax = cov_.max()\n",
        "for i, (name, this_cov) in enumerate(covs):\n",
        "    plt.subplot(2, 4, i + 1)\n",
        "    plt.imshow(\n",
        "        this_cov, interpolation=\"nearest\", vmin=-vmax, vmax=vmax, cmap=plt.cm.RdBu_r\n",
        "    )\n",
        "    plt.xticks(())\n",
        "    plt.yticks(())\n",
        "    plt.title(\"%s covariance\" % name)\n",
        "\n",
        "\n",
        "# plot the precisions\n",
        "precs = [\n",
        "    (\"Empirical\", linalg.inv(emp_cov)),\n",
        "    (\"Ledoit-Wolf\", lw_prec_),\n",
        "    (\"GraphicalLasso\", prec_),\n",
        "    (\"True\", prec),\n",
        "]\n",
        "vmax = 0.9 * prec_.max()\n",
        "for i, (name, this_prec) in enumerate(precs):\n",
        "    ax = plt.subplot(2, 4, i + 5)\n",
        "    plt.imshow(\n",
        "        np.ma.masked_equal(this_prec, 0),\n",
        "        interpolation=\"nearest\",\n",
        "        vmin=-vmax,\n",
        "        vmax=vmax,\n",
        "        cmap=plt.cm.RdBu_r,\n",
        "    )\n",
        "    plt.xticks(())\n",
        "    plt.yticks(())\n",
        "    plt.title(\"%s precision\" % name)\n",
        "    if hasattr(ax, \"set_facecolor\"):\n",
        "        ax.set_facecolor(\".7\")\n",
        "    else:\n",
        "        ax.set_axis_bgcolor(\".7\")"
      ]
    },
    {
      "cell_type": "code",
      "execution_count": null,
      "metadata": {
        "collapsed": false
      },
      "outputs": [],
      "source": [
        "# plot the model selection metric\n",
        "plt.figure(figsize=(4, 3))\n",
        "plt.axes([0.2, 0.15, 0.75, 0.7])\n",
        "plt.plot(model.cv_results_[\"alphas\"], model.cv_results_[\"mean_test_score\"], \"o-\")\n",
        "plt.axvline(model.alpha_, color=\".5\")\n",
        "plt.title(\"Model selection\")\n",
        "plt.ylabel(\"Cross-validation score\")\n",
        "plt.xlabel(\"alpha\")\n",
        "\n",
        "plt.show()"
      ]
    }
  ],
  "metadata": {
    "kernelspec": {
      "display_name": "Python 3.10.4 64-bit ('prac-weak')",
      "language": "python",
      "name": "python3"
    },
    "language_info": {
      "codemirror_mode": {
        "name": "ipython",
        "version": 3
      },
      "file_extension": ".py",
      "mimetype": "text/x-python",
      "name": "python",
      "nbconvert_exporter": "python",
      "pygments_lexer": "ipython3",
      "version": "3.10.4"
    },
    "vscode": {
      "interpreter": {
        "hash": "3239d9b19dc71823afce0461a5421d11a9d24253957a55b30a6bf76803c2fa56"
      }
    }
  },
  "nbformat": 4,
  "nbformat_minor": 0
}
